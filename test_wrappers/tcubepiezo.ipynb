{
 "cells": [
  {
   "cell_type": "code",
   "execution_count": 1,
   "metadata": {
    "tags": []
   },
   "outputs": [],
   "source": [
    "%load_ext autoreload\n",
    "%autoreload 2\n",
    "\n",
    "from tlk import tcubepiezo\n",
    "from time import sleep"
   ]
  },
  {
   "cell_type": "code",
   "execution_count": 2,
   "metadata": {
    "tags": []
   },
   "outputs": [],
   "source": [
    "tcubepiezo.build_device_list()"
   ]
  },
  {
   "cell_type": "code",
   "execution_count": 9,
   "metadata": {
    "tags": []
   },
   "outputs": [],
   "source": [
    "sn = 81859722\n",
    "tcubepiezo.open_device(sn)\n",
    "assert tcubepiezo.check_connection(sn)"
   ]
  },
  {
   "cell_type": "code",
   "execution_count": 8,
   "metadata": {
    "tags": []
   },
   "outputs": [],
   "source": [
    "tcubepiezo.close_device(sn)\n",
    "assert not tcubepiezo.check_connection(sn)"
   ]
  },
  {
   "cell_type": "code",
   "execution_count": 11,
   "metadata": {
    "tags": []
   },
   "outputs": [
    {
     "data": {
      "text/plain": [
       "True"
      ]
     },
     "execution_count": 11,
     "metadata": {},
     "output_type": "execute_result"
    }
   ],
   "source": [
    "tcubepiezo.open_device(sn)\n",
    "assert tcubepiezo.check_connection(sn)"
   ]
  },
  {
   "cell_type": "code",
   "execution_count": 79,
   "metadata": {
    "tags": []
   },
   "outputs": [
    {
     "data": {
      "text/plain": [
       "131076"
      ]
     },
     "execution_count": 79,
     "metadata": {},
     "output_type": "execute_result"
    }
   ],
   "source": [
    "tcubepiezo.get_firmware_version(sn)"
   ]
  },
  {
   "cell_type": "code",
   "execution_count": 4,
   "metadata": {
    "tags": []
   },
   "outputs": [],
   "source": [
    "tcubepiezo.clear_message_queue(sn)"
   ]
  },
  {
   "cell_type": "code",
   "execution_count": 72,
   "metadata": {
    "tags": []
   },
   "outputs": [],
   "source": [
    "tcubepiezo.disable(sn)\n",
    "tcubepiezo.enable(sn)"
   ]
  },
  {
   "cell_type": "code",
   "execution_count": 77,
   "metadata": {
    "tags": []
   },
   "outputs": [],
   "source": [
    "tcubepiezo.set_max_output_voltage(sn, 1000)\n",
    "assert tcubepiezo.get_max_output_voltage(sn) == 1000\n",
    "\n",
    "tcubepiezo.set_max_output_voltage(sn, 750)\n",
    "assert tcubepiezo.get_max_output_voltage(sn) == 750"
   ]
  },
  {
   "cell_type": "code",
   "execution_count": 78,
   "metadata": {
    "tags": []
   },
   "outputs": [
    {
     "name": "stdout",
     "output_type": "stream",
     "text": [
      "Voltage: 103\n",
      "Voltage: 95\n",
      "Voltage: 85\n",
      "Voltage: 75\n",
      "Voltage: 65\n",
      "Voltage: 55\n",
      "Voltage: 44\n",
      "Voltage: 35\n",
      "Voltage: 26\n",
      "Voltage: 15\n",
      "Voltage: 5\n"
     ]
    }
   ],
   "source": [
    "for i in range(10,-1,-1):\n",
    "    tcubepiezo.set_output_voltage(sn, i * 10)\n",
    "    sleep(0.2)\n",
    "    tcubepiezo.set_output_voltage(sn, i * 10)\n",
    "    sleep(0.2)\n",
    "    print(\"Voltage: {}\".format(tcubepiezo.get_output_voltage(sn)))"
   ]
  },
  {
   "cell_type": "code",
   "execution_count": 20,
   "metadata": {
    "tags": []
   },
   "outputs": [
    {
     "data": {
      "text/plain": [
       "(100, 20)"
      ]
     },
     "execution_count": 20,
     "metadata": {},
     "output_type": "execute_result"
    }
   ],
   "source": [
    "tcubepiezo.get_feedback_loop_pi_consts(sn)"
   ]
  },
  {
   "cell_type": "code",
   "execution_count": null,
   "metadata": {},
   "outputs": [],
   "source": []
  }
 ],
 "metadata": {
  "kernelspec": {
   "display_name": "pyscan-jm",
   "language": "python",
   "name": "pyscan-jm"
  },
  "language_info": {
   "codemirror_mode": {
    "name": "ipython",
    "version": 3
   },
   "file_extension": ".py",
   "mimetype": "text/x-python",
   "name": "python",
   "nbconvert_exporter": "python",
   "pygments_lexer": "ipython3",
   "version": "3.11.9"
  }
 },
 "nbformat": 4,
 "nbformat_minor": 4
}
